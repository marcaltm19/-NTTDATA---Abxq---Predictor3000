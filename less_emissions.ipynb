{
 "cells": [
  {
   "cell_type": "code",
   "execution_count": 2,
   "metadata": {},
   "outputs": [],
   "source": [
    "import pandas as pd"
   ]
  },
  {
   "cell_type": "code",
   "execution_count": 3,
   "metadata": {},
   "outputs": [],
   "source": [
    "data = pd.read_excel(\"consumo_material_clean.xlsx\")"
   ]
  },
  {
   "cell_type": "code",
   "execution_count": 14,
   "metadata": {},
   "outputs": [],
   "source": [
    "# Extract 'number2' and create a new column\n",
    "data['HOSPITAL'] = data['ORIGEN'].str.extract(r'-(\\d{1,2})-')\n",
    "\n",
    "# Convertir la columna 'FECHAPEDIDO' al formato de fecha y hora\n",
    "data['FECHAPEDIDO'] = pd.to_datetime(data['FECHAPEDIDO'], format='%d/%m/%y', errors='coerce')\n",
    "\n",
    "# Ordenar el DataFrame por 'Number2' y 'FECHAPEDIDO'\n",
    "data.sort_values(by=['Number2', 'FECHAPEDIDO'], inplace=True)\n",
    "\n",
    "# Crear un diccionario para mapear 'Number2' a un valor numérico y ordenar por él\n",
    "number2_order = {str(i): i for i in range(19)}\n",
    "data['Number2_Order'] = data['Number2'].map(number2_order)\n",
    "\n",
    "# Ordenar por 'Number2_Order' y 'FECHAPEDIDO', y eliminar la columna temporal\n",
    "data.sort_values(by=['Number2_Order', 'FECHAPEDIDO'], inplace=True)\n",
    "data.drop(columns=['Number2_Order'], inplace=True)\n",
    "\n",
    "# Guardar el DataFrame ordenado de nuevo en Excel\n",
    "data.to_excel('archivo_excel_ordenado.xlsx', index=False)"
   ]
  }
 ],
 "metadata": {
  "kernelspec": {
   "display_name": "fme",
   "language": "python",
   "name": "python3"
  },
  "language_info": {
   "codemirror_mode": {
    "name": "ipython",
    "version": 3
   },
   "file_extension": ".py",
   "mimetype": "text/x-python",
   "name": "python",
   "nbconvert_exporter": "python",
   "pygments_lexer": "ipython3",
   "version": "3.11.5"
  },
  "orig_nbformat": 4
 },
 "nbformat": 4,
 "nbformat_minor": 2
}
