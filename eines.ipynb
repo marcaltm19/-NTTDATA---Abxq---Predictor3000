{
 "cells": [
  {
   "cell_type": "code",
   "execution_count": null,
   "metadata": {},
   "outputs": [],
   "source": [
    "# Extract 'number2' and create a new column\n",
    "df['HOSPITAL'] = df['ORIGEN'].str.extract(r'-(\\d{1,2})-')\n",
    "\n",
    "# Convertir la columna 'FECHAPEDIDO' al formato de fecha y hora\n",
    "df['FECHAPEDIDO'] = pd.to_datetime(df['FECHAPEDIDO'], format='%d/%m/%y', errors='coerce')\n",
    "\n",
    "df = df[df['FECHAPEDIDO'].dt.year == 2023]\n",
    "df[\"day\"] = df[\"FECHAPEDIDO\"].dt.day\n",
    "df[\"month\"] = df[\"FECHAPEDIDO\"].dt.month\n",
    "df[\"year\"] = df[\"FECHAPEDIDO\"].dt.year\n",
    "# df.drop(columns={'ORIGEN', 'TIPOCOMPRA', 'REFERENCIA'})\n",
    "\n",
    "\n",
    "# Ordenar el dfFrame por 'Number2' y 'FECHAPEDIDO'\n",
    "df.sort_values(by=['HOSPITAL', 'FECHAPEDIDO'], inplace=True)\n",
    "\n",
    "# Crear un diccionario para mapear 'Number2' a un valor numérico y ordenar por él\n",
    "HOSPITAL_order = {str(i): i for i in range(19)}\n",
    "df['HOSPITAL_Order'] = df['HOSPITAL'].map(HOSPITAL_order)\n",
    "\n",
    "# Ordenar por 'Number2_Order' y 'FECHAPEDIDO', y eliminar la columna temporal\n",
    "df.sort_values(by=['HOSPITAL_Order', 'FECHAPEDIDO'], inplace=True)\n",
    "df.drop(columns=['HOSPITAL_Order'], inplace=True)\n",
    "\n",
    "# Guardar el DataFrame ordenado de nuevo en Excel\n",
    "df.to_excel('total_results.xlsx', index=False)\n",
    "\n",
    "# Dividir los tipos de pedido en dos hojas de calculo distintas\n",
    "# df_transito = df[df['TGL'] == 'TRANSITO']\n",
    "# df_almacenable = df[df['TGL'] == 'ALMACENABLE']\n",
    "\n",
    "# df_transito.to_excel('transito_results.xlsx', index=False)\n",
    "# df_almacenable.to_excel('almacenable_results.xlsx', index=False)"
   ]
  }
 ],
 "metadata": {
  "language_info": {
   "name": "python"
  }
 },
 "nbformat": 4,
 "nbformat_minor": 2
}
