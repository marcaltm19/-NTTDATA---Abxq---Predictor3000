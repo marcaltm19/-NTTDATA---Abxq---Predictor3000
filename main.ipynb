{
 "cells": [
  {
   "cell_type": "code",
   "execution_count": 15,
   "metadata": {},
   "outputs": [],
   "source": [
    "import pandas as pd"
   ]
  },
  {
   "cell_type": "code",
   "execution_count": 16,
   "metadata": {},
   "outputs": [],
   "source": [
    "df = pd.read_excel(\"./consumo_material_clean.xlsx\")"
   ]
  },
  {
   "cell_type": "code",
   "execution_count": 17,
   "metadata": {},
   "outputs": [],
   "source": [
    "# Extract 'number2' and create a new column\n",
    "df['HOSPITAL'] = df['ORIGEN'].str.extract(r'-(\\d{1,2})-')\n",
    "\n",
    "# Convertir la columna 'FECHAPEDIDO' al formato de fecha y hora\n",
    "df['FECHAPEDIDO'] = pd.to_datetime(df['FECHAPEDIDO'], format='%d/%m/%y', errors='coerce')\n",
    "\n",
    "df = df[df['FECHAPEDIDO'].dt.year == 2023]\n",
    "df[\"year\"] = df[\"FECHAPEDIDO\"].dt.year\n",
    "df[\"month\"] = df[\"FECHAPEDIDO\"].dt.month\n",
    "\n",
    "# Ordenar el dfFrame por 'Number2' y 'FECHAPEDIDO'\n",
    "df.sort_values(by=['HOSPITAL', 'FECHAPEDIDO'], inplace=True)\n",
    "\n",
    "# Crear un diccionario para mapear 'Number2' a un valor numérico y ordenar por él\n",
    "HOSPITAL_order = {str(i): i for i in range(19)}\n",
    "df['HOSPITAL_Order'] = df['HOSPITAL'].map(HOSPITAL_order)\n",
    "\n",
    "# Ordenar por 'Number2_Order' y 'FECHAPEDIDO', y eliminar la columna temporal\n",
    "df.sort_values(by=['HOSPITAL_Order', 'FECHAPEDIDO'], inplace=True)\n",
    "df.drop(columns=['HOSPITAL_Order'], inplace=True)\n",
    "\n",
    "# Guardar el DataFrame ordenado de nuevo en Excel\n",
    "df.to_excel('archivo_excel_ordenado.xlsx', index=False)"
   ]
  }
 ],
 "metadata": {
  "kernelspec": {
   "display_name": "fme",
   "language": "python",
   "name": "python3"
  },
  "language_info": {
   "codemirror_mode": {
    "name": "ipython",
    "version": 3
   },
   "file_extension": ".py",
   "mimetype": "text/x-python",
   "name": "python",
   "nbconvert_exporter": "python",
   "pygments_lexer": "ipython3",
   "version": "3.10.12"
  },
  "orig_nbformat": 4
 },
 "nbformat": 4,
 "nbformat_minor": 2
}
