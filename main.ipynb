{
 "cells": [
  {
   "cell_type": "code",
   "execution_count": 67,
   "metadata": {},
   "outputs": [],
   "source": [
    "import pandas as pd"
   ]
  },
  {
   "cell_type": "code",
   "execution_count": 68,
   "metadata": {},
   "outputs": [],
   "source": [
    "df = pd.read_excel(\"./consumo_material_clean.xlsx\")"
   ]
  },
  {
   "cell_type": "code",
   "execution_count": 69,
   "metadata": {},
   "outputs": [],
   "source": [
    "df[\"FECHAPEDIDO\"] = pd.to_datetime(df['FECHAPEDIDO'], format='%d/%m/%y')\n",
    "df[\"year\"] = df[\"FECHAPEDIDO\"].dt.year\n",
    "df[\"month\"] = df[\"FECHAPEDIDO\"].dt.month\n",
    "df['HOSPITAL'] = df['ORIGEN'].str.extract(r'-(\\d{1,2})-')\n",
    "\n",
    "#df[['ORIGEN1', 'ORIGEN2', 'ORIGEN3']] = df['ORIGEN'].str.split('-', n=2, expand=True)\n",
    "df[\"CUC\"] = df[\"CANTIDADCOMPRA\"] * df[\"UNIDADESCONSUMOCONTENIDAS\"]\n",
    "df = df.drop(columns=[\"PRECIO\", \"IMPORTELINEA\", \"CANTIDADCOMPRA\", \"UNIDADESCONSUMOCONTENIDAS\", \"NUMERO\", \"REFERENCIA\", \"TIPOCOMPRA\", \"TGL\", \"PRODUCTO\"])\n",
    "df = df.groupby([\"year\", \"month\", \"HOSPITAL\", \"CODIGO\"]).sum().reset_index()\n",
    "\n",
    "df = df[df[\"year\"] == 2023]\n",
    "\n",
    "df.to_excel('total_results.xlsx', index=False)"
   ]
  }
 ],
 "metadata": {
  "kernelspec": {
   "display_name": "fme",
   "language": "python",
   "name": "python3"
  },
  "language_info": {
   "codemirror_mode": {
    "name": "ipython",
    "version": 3
   },
   "file_extension": ".py",
   "mimetype": "text/x-python",
   "name": "python",
   "nbconvert_exporter": "python",
   "pygments_lexer": "ipython3",
   "version": "3.10.12"
  },
  "orig_nbformat": 4
 },
 "nbformat": 4,
 "nbformat_minor": 2
}
